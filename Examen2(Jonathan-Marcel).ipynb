{
 "cells": [
  {
   "cell_type": "markdown",
   "metadata": {},
   "source": [
    "Nombres: JONATHAN ANDRES MERCADO CHAVARRIA; CODIGO 1102854439\n",
    "         MARCEL PARADA VILLAMIZAR;                 1007407019\n",
    "# Ejercicio 5.9 a\n"
   ]
  },
  {
   "cell_type": "code",
   "execution_count": 1,
   "metadata": {},
   "outputs": [
    {
     "name": "stdout",
     "output_type": "stream",
     "text": [
      "Ingrese el valor de la temperatura que se desea calcular: 273\n",
      " el valor de la capacidad calorifica es:  649.1517752179674\n"
     ]
    }
   ],
   "source": [
    "from math import exp\n",
    "T=int(input(\"Ingrese el valor de la temperatura que se desea calcular: \"))\n",
    "V=0.001 # EL VOLUMEN DEL SOLIDO \n",
    "OD=428 #TEMPERATURA DE Debye\n",
    "N=50\n",
    "p=6.022e28 #densidad numerica\n",
    "S=OD/T\n",
    "a=0\n",
    "h=(S-a)/N\n",
    "f1=((a)**4)/(exp(2)-2+(1/exp(a)))\n",
    "f2=((S)**4)/(exp(2)-2+(1/exp(S)))\n",
    "Kb=1.3806e-23\n",
    "r=9*Kb*V*p*(T/OD)**3\n",
    "k=[]\n",
    "for i in range(N):\n",
    "    k.append(a+(i*h))      \n",
    "acum1=0\n",
    "b=(N-2)/2\n",
    "l=int(b)\n",
    "for j in range(l+1):\n",
    "    d=((k[(2*j)+1])**(4))/(exp(2)-2+(1/exp(k[(2*j)+1])))\n",
    "    acum1=acum1+d\n",
    "acum2=0 \n",
    "for s in range(1,l+1):\n",
    "    q=((k[2*s])**(4))/(exp(2)-2+(1/exp(k[2*s])))\n",
    "    acum2=acum2+q\n",
    "Z=((h/3)*(f1+f2+(4*acum1)+(2*acum2)))*r\n",
    "print(\" el valor de la capacidad calorifica es: \",Z)\n",
    "\n",
    "\n",
    "\n"
   ]
  },
  {
   "cell_type": "code",
   "execution_count": null,
   "metadata": {},
   "outputs": [],
   "source": []
  },
  {
   "cell_type": "markdown",
   "metadata": {},
   "source": [
    "# Ejercicio 5.9b"
   ]
  },
  {
   "cell_type": "code",
   "execution_count": 2,
   "metadata": {
    "scrolled": true
   },
   "outputs": [
    {
     "data": {
      "image/png": "[encoded data removed]",
      "text/plain": [
       "<Figure size 432x288 with 1 Axes>"
      ]
     },
     "metadata": {
      "needs_background": "light"
     },
     "output_type": "display_data"
    }
   ],
   "source": [
    "from pylab import plot ,show,title, xlabel, ylabel,legend \n",
    "from numpy import linspace\n",
    "from math import exp\n",
    "def funcion(T):\n",
    "    V=0.001 # EL VOLUMEN DEL SOLIDO \n",
    "    OD=428 #TEMPERATURA DE Debye\n",
    "    N=50\n",
    "    p=6.022e28 #densidad numerica\n",
    "    S=OD/T\n",
    "    a=0\n",
    "    h=(S-a)/N\n",
    "    f1=((a)**4)/(exp(2)-2+(1/exp(a)))\n",
    "    f2=((S)**4)/(exp(2)-2+(1/exp(S)))\n",
    "    Kb=1.3806e-23\n",
    "    r=9*Kb*V*p*(T/OD)**3\n",
    "    k=[]\n",
    "    \n",
    "    for i in range(N):\n",
    "        k.append(a+(i*h))      \n",
    "    acum1=0\n",
    "    b=(N-2)/2\n",
    "    l=int(b)\n",
    "    for j in range(l+1):\n",
    "        d=((k[(2*j)+1])**(4))/(exp(2)-2+(1/exp(k[(2*j)+1])))\n",
    "        acum1=acum1+d\n",
    "    acum2=0 \n",
    "    for s in range(1,l+1):\n",
    "        q=((k[2*s])**(4))/(exp(2)-2+(1/exp(k[2*s])))\n",
    "        acum2=acum2+q\n",
    "    Z=((h/3)*(f1+f2+(4*acum1)+(2*acum2)))*r\n",
    "    #print(\" el valor de la capacidad calorifica es: \",Z)\n",
    "    return(Z)\n",
    "L=linspace(5,500,100)# FUNCION LINSPACE ES QUE TE TOMA LOS NUMEROS 5 HASTA 500 , LA FUNCION DEL 100 ES EL NUMERO DE POSICIONES O MEJOR SON 100 NUMEROS\n",
    "d=[]\n",
    "for i in L:\n",
    "    d.append(funcion(i))\n",
    "    \n",
    "plot(L,d,'g' ,label=\"T=5K a T=500\")\n",
    "xlabel('Temperatura (K)')\n",
    "ylabel('Capacidad calorifica ()')\n",
    "title('Cv vs T')\n",
    "legend()\n",
    "show()"
   ]
  },
  {
   "cell_type": "markdown",
   "metadata": {},
   "source": [
    "# Ejercicio 5.10 a"
   ]
  },
  {
   "cell_type": "markdown",
   "metadata": {},
   "source": [
    " demostracion: PARTIMOS DE LA ENERGIA TOTAL:  E_t= (1/2)*m*(dx/dt)² + V(x) (1).\n",
    "Como sabemos que E=V(a) (2); reemplazamos (2) en (1) y nos queda lo siguiente forma\n",
    " V(a)= (1/2)*m*(dx/dt)² + V(x) (3); despejamos  (dx/dt) y nos queda de la siguiente manera\n",
    " dx/dt=sqrt((2/m)*(V(a)-v(x))) (4); despejamos dx  y nos queda de la siguiente manera.\n",
    " dx= sqrt((2/m)*(V(a)-v(x)))*dt (5); luego despejamos dt, y nos queda de la siguiente manera\n",
    " dt= (dx*sqrt(m/2))/sqrt((V(a)-v(x))) (6); luego integramos de (0 a (1/4)*T) porque viene dado por el ejercicio y nos queda de la siguiente manera; (1/4)T= (sqrt(m/2))interger(dx/sqrt(v(a)-v(x)) (7); despejamos el periodo  de ña ecuacion (7) y nos queda de la siguiente manera;   T= 4*((sqrt(m/2))interger(dx/sqrt(v(a)-v(x)))(8); luego elevamos el 4 al cuadrado para meterlo en la raiz y con esto terminamos  de la siguiente manera.  T= (sqrt(16m/2))interger(dx/sqrt(v(a)-v(x)),; esto mejorandolo nos queda de la siguiente manera.\n",
    "  T= ((sqrt(8*m))interger(dx/sqrt(v(a)-v(x))) con limites de la integral de x  entre 0 y a \n",
    " \n",
    "    \n",
    "    \n",
    "    \n",
    "    \n",
    "    \n",
    "    "
   ]
  },
  {
   "cell_type": "code",
   "execution_count": 24,
   "metadata": {},
   "outputs": [
    {
     "name": "stdout",
     "output_type": "stream",
     "text": [
      "Ingrese el valor de la amplitud: 20\n",
      "el valor del periodo es:  0.159\n"
     ]
    }
   ],
   "source": [
    "from pylab import plot ,show,title, xlabel, ylabel,legend \n",
    "from numpy import linspace\n",
    "from math import exp, sqrt\n",
    "from matplotlib import pyplot as plt\n",
    "B=float(input(\"Ingrese el valor de la amplitud: \"))\n",
    "m=1\n",
    "n=20   \n",
    "xo=0\n",
    "h=(B-xo)/n\n",
    "I=0\n",
    "for i in range(1,n):\n",
    "    va=B**4\n",
    "    xi=xo+i*h\n",
    "    f=1/(sqrt(va-(xi)**(4)))                                                                                                                                                                                                                                                                                                                                                                                                                                                                                                                                                                                                                                                                                                                                                                                                                                                                                                                                                                                    \n",
    "    i=(sqrt(8*m)*(h*f))\n",
    "    I=I+i\n",
    "print( \"el valor del periodo es: \",\"{0:.3f}\".format(I))\n",
    "\n",
    "\n",
    "\n",
    "\n",
    "\n",
    "\n",
    "  \n",
    "\n",
    "    "
   ]
  },
  {
   "cell_type": "markdown",
   "metadata": {},
   "source": [
    " Ejercicio 5.10 b.=La funcion anterior se intento hacer por  Simpson pero la division se indetermina, por lo tanto se opto por suma de Riemann. recordemos que esta integral es una integral divergente (comprobamos con otras pogramas computacional )"
   ]
  },
  {
   "cell_type": "code",
   "execution_count": 47,
   "metadata": {},
   "outputs": [
    {
     "name": "stdout",
     "output_type": "stream",
     "text": [
      "[3.173161897218703, 1.5865809486093514]\n"
     ]
    },
    {
     "data": {
      "text/plain": [
       "[<matplotlib.lines.Line2D at 0x7f22ea671278>]"
      ]
     },
     "execution_count": 47,
     "metadata": {},
     "output_type": "execute_result"
    },
    {
     "data": {
      "image/png": "[encoded data removed]",
      "text/plain": [
       "<Figure size 432x288 with 1 Axes>"
      ]
     },
     "metadata": {
      "needs_background": "light"
     },
     "output_type": "display_data"
    }
   ],
   "source": [
    "d=[]\n",
    "for a in range (1,3):\n",
    "    m=1\n",
    "    n=20   \n",
    "    xo=0\n",
    "    h=(a-xo)/n\n",
    "    I=0\n",
    "    for i in range(1,n):\n",
    "        va=a**4\n",
    "        xi=xo+i*h\n",
    "        f=1/(sqrt(va-(xi)**(4)))                                                                                                                                                                                                                                                                                                                                                                                                                                                                                                                                                                                                                                                                                                                                                                                                                                                                                                                                                                                    \n",
    "        i=(sqrt(8*m)*(h*f))\n",
    "        I=I+i\n",
    "    d.append(I)\n",
    "    plt.plot(d)   # Dibuja el gráfico\n",
    "    plt.title(\"Periodo vs Amplitudes\")   # Establece el título del gráfico\n",
    "    plt.xlabel(\"Eje X (Amplitudes)\")   # Establece el título del eje x\n",
    "    plt.ylabel(\"Eje Y (Periodo)\")   # Establece el título del eje y\n",
    "print(d)\n",
    "plot(d,'or')"
   ]
  },
  {
   "cell_type": "markdown",
   "metadata": {},
   "source": [
    "c) psdta: la grafica anterior  no se pudo escoger el valor de cero porque se indetermina,por lo tanto se escogio el valor de 1 hasta 2 \n",
    "La grafica nos muestra que entre mayor es la amplitud el periodo disminuye; las amplitudes serán mas proximas en la grafica,  tambien vemos que el oscilador comienza aumentar la velocidad cuando la el periodo es menor y viajaria rapidamente, y en el caso contrario el oscilador viaja menor."
   ]
  },
  {
   "cell_type": "code",
   "execution_count": null,
   "metadata": {},
   "outputs": [],
   "source": []
  }
 ],
 "metadata": {
  "kernelspec": {
   "display_name": "Python 3",
   "language": "python",
   "name": "python3"
  },
  "language_info": {
   "codemirror_mode": {
    "name": "ipython",
    "version": 3
   },
   "file_extension": ".py",
   "mimetype": "text/x-python",
   "name": "python",
   "nbconvert_exporter": "python",
   "pygments_lexer": "ipython3",
   "version": "3.5.2"
  }
 },
 "nbformat": 4,
 "nbformat_minor": 2
}
